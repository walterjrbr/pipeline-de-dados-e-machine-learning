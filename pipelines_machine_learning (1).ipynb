{
  "cells": [
    {
      "cell_type": "code",
      "execution_count": 2,
      "id": "3f3dd88a",
      "metadata": {
        "id": "3f3dd88a"
      },
      "outputs": [],
      "source": [
        "import pandas as pd\n",
        "import numpy as np\n",
        "\n",
        "from sklearn.pipeline import Pipeline, make_pipeline\n",
        "from sklearn.ensemble import RandomForestClassifier\n",
        "from sklearn.linear_model import LogisticRegression\n",
        "from sklearn.preprocessing import StandardScaler, MinMaxScaler, OneHotEncoder\n",
        "from sklearn.compose import ColumnTransformer\n",
        "from sklearn.impute import KNNImputer, SimpleImputer\n",
        "from sklearn.model_selection import train_test_split, KFold, cross_val_score, GridSearchCV\n",
        "\n"
      ]
    },
    {
      "cell_type": "code",
      "execution_count": null,
      "id": "0b15b8e0",
      "metadata": {
        "id": "0b15b8e0"
      },
      "outputs": [],
      "source": [
        "\n",
        "treino = pd.read_csv('./data/train.csv')\n",
        "teste = pd.read_csv('./data/test.csv')\n",
        "\n",
        "display(treino.head())\n",
        "display(teste.head())"
      ]
    },
    {
      "cell_type": "markdown",
      "id": "3b2e004f",
      "metadata": {
        "id": "3b2e004f"
      },
      "source": [
        "### Criando pipeline"
      ]
    },
    {
      "cell_type": "code",
      "execution_count": null,
      "id": "9771daa9",
      "metadata": {
        "id": "9771daa9"
      },
      "outputs": [],
      "source": [
        "pipeline_inical = Pipeline([\n",
        "    ('one_hot_encoder', OneHotEncoder(handle_unknown='ignore')),\n",
        "    ('min_max_scaler', StandardScaler(with_mean=False)),\n",
        "    ('classificador', RandomForestClassifier())\n",
        "])\n",
        "\n",
        "pipeline_inicial"
      ]
    },
    {
      "cell_type": "code",
      "execution_count": null,
      "id": "62e1e0c0",
      "metadata": {
        "id": "62e1e0c0"
      },
      "outputs": [],
      "source": [
        "pipeline_inicial.steps[1]"
      ]
    },
    {
      "cell_type": "markdown",
      "id": "52ee2359",
      "metadata": {
        "id": "52ee2359"
      },
      "source": [
        "### make_pipeline\n",
        "---\n",
        "\n"
      ]
    },
    {
      "cell_type": "code",
      "execution_count": null,
      "id": "6471165e",
      "metadata": {
        "id": "6471165e",
        "outputId": "224ed912-1411-4ba2-fc36-9e84908eac2a"
      },
      "outputs": [
        {
          "data": {
            "text/plain": [
              "Pipeline(steps=[('onehotencoder', OneHotEncoder(handle_unknown='ignore')),\n",
              "                ('standardscaler', StandardScaler(with_mean=False)),\n",
              "                ('randomforestclassifier', RandomForestClassifier())])"
            ]
          },
          "execution_count": 5,
          "metadata": {},
          "output_type": "execute_result"
        }
      ],
      "source": [
        "make_pipeline(OneHotEncoder(handle_unknown='ignore'), StandardScaler(with_mean=False), RandomForestClassifier())"
      ]
    },
    {
      "cell_type": "code",
      "execution_count": null,
      "id": "6d60f4f7",
      "metadata": {
        "id": "6d60f4f7"
      },
      "outputs": [],
      "source": [
        "# Separando treino e validação!!\n",
        "X = treino.drop('Survived', axis = 1)\n",
        "y = treino['Survived']\n",
        "\n",
        "X_treino, X_valid, y_treino, y_valid = train_test_split(X, y)\n",
        "\n",
        "X_treino.shape, X_valid.shape, y_treino.shape, y_valid.shape\n"
      ]
    },
    {
      "cell_type": "code",
      "execution_count": null,
      "id": "f432a352",
      "metadata": {
        "id": "f432a352",
        "outputId": "439f4762-c41e-4526-e769-fe0d0176dccf"
      },
      "outputs": [
        {
          "data": {
            "text/plain": [
              "Pipeline(steps=[('one_hot_encoder', OneHotEncoder(handle_unknown='ignore')),\n",
              "                ('min_max_scaler', StandardScaler(with_mean=False)),\n",
              "                ('classificador', RandomForestClassifier())])"
            ]
          },
          "execution_count": 7,
          "metadata": {},
          "output_type": "execute_result"
        }
      ],
      "source": [
        "pipeline_inicial.fit(X_treino, y_treino)"
      ]
    },
    {
      "cell_type": "code",
      "execution_count": null,
      "id": "1d5bc744",
      "metadata": {
        "id": "1d5bc744"
      },
      "outputs": [],
      "source": [
        "pipeline_inicial.predict(X_valid)"
      ]
    },
    {
      "cell_type": "code",
      "execution_count": null,
      "id": "500ae827",
      "metadata": {
        "id": "500ae827"
      },
      "outputs": [],
      "source": [
        "pipeline_inicial.score(X_valid, y_valid)"
      ]
    },
    {
      "cell_type": "markdown",
      "id": "b7d28913",
      "metadata": {
        "id": "b7d28913"
      },
      "source": [
        "### Separando as transformações das variáveis categóricas e numéricas"
      ]
    },
    {
      "cell_type": "code",
      "execution_count": null,
      "id": "065000dc",
      "metadata": {
        "id": "065000dc",
        "outputId": "038600b4-ae06-484a-a3da-c2f8c5a37b52"
      },
      "outputs": [
        {
          "data": {
            "text/plain": [
              "PassengerId      int64\n",
              "Pclass           int64\n",
              "Name            object\n",
              "Sex             object\n",
              "Age            float64\n",
              "SibSp            int64\n",
              "Parch            int64\n",
              "Ticket          object\n",
              "Fare           float64\n",
              "Cabin           object\n",
              "Embarked        object\n",
              "dtype: object"
            ]
          },
          "execution_count": 10,
          "metadata": {},
          "output_type": "execute_result"
        }
      ],
      "source": [
        "X_treino.dtypes"
      ]
    },
    {
      "cell_type": "code",
      "execution_count": null,
      "id": "ee94846b",
      "metadata": {
        "id": "ee94846b"
      },
      "outputs": [],
      "source": [
        "X_treino.head()"
      ]
    },
    {
      "cell_type": "code",
      "execution_count": null,
      "id": "14294c6b",
      "metadata": {
        "id": "14294c6b"
      },
      "outputs": [],
      "source": [
        "X_treino['Name'].dtype.name"
      ]
    },
    {
      "cell_type": "code",
      "execution_count": null,
      "id": "9460d322",
      "metadata": {
        "id": "9460d322"
      },
      "outputs": [],
      "source": [
        "variaveis_categoricas = [coluna for coluna in X_treino.columns if X_treino[coluna].dtype.name == 'object']\n",
        "variaveis_categoricas"
      ]
    },
    {
      "cell_type": "code",
      "execution_count": null,
      "id": "44ccf1d7",
      "metadata": {
        "id": "44ccf1d7",
        "outputId": "fdbe5264-624c-4aba-8e7b-cad34a723d5c"
      },
      "outputs": [
        {
          "data": {
            "text/plain": [
              "['PassengerId', 'Pclass', 'Age', 'SibSp', 'Parch', 'Fare']"
            ]
          },
          "execution_count": 14,
          "metadata": {},
          "output_type": "execute_result"
        }
      ],
      "source": [
        "variaveis_numericas = [coluna for coluna in X_treino.columns if coluna not in variaveis_categoricas]\n",
        "variaveis_numericas"
      ]
    },
    {
      "cell_type": "code",
      "execution_count": null,
      "id": "9e34c347",
      "metadata": {
        "id": "9e34c347"
      },
      "outputs": [],
      "source": [
        "# Separando tratamento para colunas categóricas (imputer = tratar dados faltantes)\n",
        "pipeline_categoricas = Pipeline([\n",
        "    ('imputer', SimpleImputer(strategy='constant', fill_value='missing')),\n",
        "    ('encoder', OneHotEncoder(handle_unknown='ignore', sparse=False))\n",
        "])"
      ]
    },
    {
      "cell_type": "code",
      "execution_count": null,
      "id": "a418d4b5",
      "metadata": {
        "id": "a418d4b5"
      },
      "outputs": [],
      "source": [
        "# Tratamento para numéricas\n",
        "pipeline_numericas = Pipeline([\n",
        "    ('imputer', SimpleImputer(strategy='median')),\n",
        "    ('scaler', MinMaxScaler())\n",
        "])"
      ]
    },
    {
      "cell_type": "code",
      "execution_count": null,
      "id": "71d6148b",
      "metadata": {
        "id": "71d6148b"
      },
      "outputs": [],
      "source": [
        "\n",
        "pre_processamento = ColumnTransformer([\n",
        "    ('cat', pipeline_categoricas, variaveis_categoricas),\n",
        "    ('num', pipeline_numericas, variaveis_numericas)\n",
        "])"
      ]
    },
    {
      "cell_type": "code",
      "execution_count": null,
      "id": "da927373",
      "metadata": {
        "id": "da927373"
      },
      "outputs": [],
      "source": [
        "pipeline_random_forest = make_pipeline(pre_processamento, RandomForestClassifier(random_state=42))\n",
        "pipeline_log_reg = make_pipeline(pre_processamento, LogisticRegression(random_state=42))"
      ]
    },
    {
      "cell_type": "code",
      "execution_count": null,
      "id": "1dfd39c9",
      "metadata": {
        "id": "1dfd39c9"
      },
      "outputs": [],
      "source": [
        "pipeline_random_forest"
      ]
    },
    {
      "cell_type": "code",
      "execution_count": null,
      "id": "e1d460ec",
      "metadata": {
        "id": "e1d460ec"
      },
      "outputs": [],
      "source": [
        "pipeline_random_forest.fit(X_treino, y_treino)\n",
        "pipeline_random_forest.score(X_valid, y_valid)"
      ]
    },
    {
      "cell_type": "code",
      "execution_count": null,
      "id": "1c73eac9",
      "metadata": {
        "id": "1c73eac9"
      },
      "outputs": [],
      "source": [
        "pipeline_log_reg.fit(X_treino, y_treino)\n",
        "pipeline_log_reg.score(X_valid, y_valid)"
      ]
    },
    {
      "cell_type": "markdown",
      "id": "23254e58",
      "metadata": {
        "id": "23254e58"
      },
      "source": [
        "### Usando cross validation"
      ]
    },
    {
      "cell_type": "code",
      "execution_count": null,
      "id": "fde57b66",
      "metadata": {
        "id": "fde57b66"
      },
      "outputs": [],
      "source": [
        "validacao_cruzada = KFold(n_splits=10, shuffle=True, random_state=42)\n",
        "validacao_cruzada"
      ]
    },
    {
      "cell_type": "code",
      "execution_count": null,
      "id": "9e266134",
      "metadata": {
        "id": "9e266134"
      },
      "outputs": [],
      "source": [
        "cross_val_score(pipeline_random_forest, X_valid, y_valid, cv=validacao_cruzada)"
      ]
    },
    {
      "cell_type": "code",
      "execution_count": null,
      "id": "13fbda86",
      "metadata": {
        "id": "13fbda86"
      },
      "outputs": [],
      "source": [
        "acuracia_media_rf = cross_val_score(pipeline_random_forest, X_valid, y_valid, cv=validacao_cruzada).mean()\n",
        "acuracia_media_rf"
      ]
    },
    {
      "cell_type": "code",
      "execution_count": null,
      "id": "72c49bf6",
      "metadata": {
        "id": "72c49bf6"
      },
      "outputs": [],
      "source": [
        "acuracia_media_log_reg = cross_val_score(pipeline_log_reg, X_valid, y_valid, cv=validacao_cruzada).mean()\n",
        "acuracia_media_log_reg"
      ]
    }
  ],
  "metadata": {
    "kernelspec": {
      "display_name": "Python 3 (ipykernel)",
      "language": "python",
      "name": "python3"
    },
    "language_info": {
      "codemirror_mode": {
        "name": "ipython",
        "version": 3
      },
      "file_extension": ".py",
      "mimetype": "text/x-python",
      "name": "python",
      "nbconvert_exporter": "python",
      "pygments_lexer": "ipython3",
      "version": "3.7.8"
    },
    "colab": {
      "name": "pipelines-machine-learning.ipynb",
      "provenance": []
    }
  },
  "nbformat": 4,
  "nbformat_minor": 5
}